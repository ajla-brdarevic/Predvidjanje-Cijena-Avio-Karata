{
 "cells": [
  {
   "cell_type": "markdown",
   "metadata": {},
   "source": [
    "# Predikcija cijena avio karata - model\n",
    "\n",
    "Ovaj Python kod koristi Random Forest regressor za predikciju cijena avio karata. Podaci se učitavaju, pripremaju (uklanjaju nepotrebne kolone, kodiraju kategorijske varijable), a zatim se dijele na trening i test skupove. Model se trenira, evaluira i vrši predikcije, pri čemu se negativne predikcije postavljaju na nulu. Na kraju, model se sprema za buduću upotrebu.\n",
    "\n",
    "**Potrebne biblioteke:** pip install pandas matplotlib scikit-learn numpy pickle-mixin"
   ]
  },
  {
   "cell_type": "markdown",
   "metadata": {},
   "source": [
    "## Učitavanje potrebnih biblioteka\n",
    "\n",
    "- import pandas as pd: Učitava biblioteku Pandas koja se koristi za rad sa podacima u obliku tablica jer se korisi .csv file.\n",
    "- import matplotlib.pyplot as plt: Učitava biblioteku Matplotlib koja omogućava kreiranje vizualizacija podataka.\n",
    "- plt.style.use('ggplot'): Postavlja stil grafova na 'ggplot'\n",
    "- %matplotlib inline: Omogućava prikazivanje grafova unutar Jupyter notebook-a."
   ]
  },
  {
   "cell_type": "code",
   "execution_count": 5,
   "metadata": {},
   "outputs": [],
   "source": [
    "import pandas as pd\n",
    "import matplotlib.pyplot as plt\n",
    "plt.style.use('ggplot')\n",
    "%matplotlib inline"
   ]
  },
  {
   "cell_type": "markdown",
   "metadata": {},
   "source": [
    "## Učitavanje podataka\n",
    "\n",
    "Učitava se Clean_Dataset.csv u Pandas DataFrame objekat df i prikazuje se prvih 5 redova učitanog DataFrame-a kako bi se mogli analizirati podaci prije treniranja."
   ]
  },
  {
   "cell_type": "code",
   "execution_count": null,
   "metadata": {},
   "outputs": [],
   "source": [
    "df = pd.read_csv('data/Clean_Dataset.csv')\n",
    "df.head()"
   ]
  },
  {
   "cell_type": "markdown",
   "metadata": {},
   "source": [
    "## Provjera dimenzija i uklanjanje nepotrebnih kolona\n",
    "\n",
    "Provjera dimenzija (broj redova i kolona) skupa podataka. Uklanjaju se tri kolone jer nisu potrebne (Unnamed: 0, flight, i duration) iz DataFrame-a. Parametar axis=1 označava da se brišu kolone (a ne redovi). inplace=True znači da se promjene izvršavaju direktno u originalnom DataFrame-u bez potrebe za stvaranjem nove varijable."
   ]
  },
  {
   "cell_type": "code",
   "execution_count": null,
   "metadata": {},
   "outputs": [],
   "source": [
    "df.shape\n",
    "df.drop(['Unnamed: 0', 'flight', 'duration'], axis=1, inplace=True)\n",
    "df.head()\n",
    "df.info()"
   ]
  },
  {
   "cell_type": "markdown",
   "metadata": {},
   "source": [
    "## Analiza po zrakoplovnoj kompaniji\n",
    "\n",
    "Prikazuju se sve jedinstvene vrijednosti koje se nalaze u koloni airline. Ovo se koristi za provjeru svih različitih aviokompanija koje se nalaze u skupu podataka.\n",
    "- df.groupby('airline')['price'].mean(): Grupira podatke po koloni airline i za svaku grupu (aviokompaniju) izračunava prosječnu cijenu (price).\n",
    "- sort_values(): Sortira prosječne cijene po vrijednostima (od najniže do najviše).\n",
    "- plot(kind='bar'): Vizualizuje ove prosječne cijene kao bar grafikon, gdje će svaka aviokompanija biti predstavljena sa stupcem koji prikazuje prosječnu cijenu."
   ]
  },
  {
   "cell_type": "code",
   "execution_count": null,
   "metadata": {},
   "outputs": [],
   "source": [
    "df['airline'].unique()\n",
    "df.groupby('airline')['price'].mean().sort_values().plot(kind='bar')"
   ]
  },
  {
   "cell_type": "markdown",
   "metadata": {},
   "source": [
    "## Analiza cijena po klasi\n",
    "\n",
    "Prikazuju se sve jedinstvene vrijednosti koje se nalaze u koloni class, koja označava tip klase (npr. Ekonomija, Biznis). Ovo se koristi kako bi se utvrdilo koje sve klase postoje u skupu podataka.\n",
    "\n",
    "- df[df['class'] == 'Economy']: Filtrira podatke tako da zadrži samo one redove u kojima je class postavljeno na Economy.\n",
    "- groupby('airline')['price'].mean(): Grupira filtrirane podatke po airline (aviokompaniji) i izračunava prosječnu cijenu za svaki tip aviokompanije u ekonomskom razredu.\n",
    "- sort_values(): Sortira prosječne cijene po vrijednostima (od najniže do najviše).\n",
    "- plot(kind='bar'): Vizualizuje ove prosječne cijene kao bar grafikon (stupčasti grafikon), gdje će svaka aviokompanija biti predstavljena sa stupcem koji prikazuje prosječnu cijenu za ekonomsku klasu.\n",
    "***\n",
    "- df[df['class'] == 'Business']: Filtrira podatke tako da zadrži samo one redove u kojima je class postavljeno na Business.\n",
    "- groupby('airline')['price'].mean(): Grupira filtrirane podatke po airline (aviokompaniji) i izračunava prosječnu cijenu za svaki tip aviokompanije u poslovnoj klasi.\n",
    "- sort_values(): Sortira prosječne cijene po vrijednostima (od najniže do najviše).\n",
    "- plot(kind='bar'): Vizualizuje ove prosječne cijene kao bar grafikon, gdje će svaka aviokompanija biti predstavljena sa stupcem koji prikazuje prosječnu cijenu za poslovnu klasu."
   ]
  },
  {
   "cell_type": "code",
   "execution_count": null,
   "metadata": {},
   "outputs": [],
   "source": [
    "df['class'].unique()\n",
    "df[df['class'] == 'Economy'].groupby('airline')['price'].mean().sort_values().plot(kind='bar')\n",
    "df[df['class'] == 'Business'].groupby('airline')['price'].mean().sort_values().plot(kind='bar')"
   ]
  },
  {
   "cell_type": "markdown",
   "metadata": {},
   "source": [
    "## Kategorijske varijable\n",
    "\n",
    "- df['airline']: Ovdje se koristi kolona airline iz DataFrame-a, koja sadrži nazive aviokompanija.\n",
    "- map(): Funkcija map() se koristi za zamjenu vrijednosti u kolonama na osnovu mape koju definišemo. U ovom slučaju, svaka aviokompanija u airline koloni bit će zamijenjena odgovarajućom numeričkom vrijednošću prema definisanoj mapi:\n",
    "    - 'AirAsia' se mijenja u 0\n",
    "    - 'Indigo' se mijenja u 1\n",
    "    - 'GO_FIRST' se mijenja u 2\n",
    "    - 'SpiceJet' se mijenja u 3\n",
    "    - 'Air_India' se mijenja u 4\n",
    "    - 'Vistara' se mijenja u 5\n",
    "\n",
    "Ova zamjena omogućava da se nazivi aviokompanija (koji su tekstualni podaci) konvertuju u numeričke vrijednosti, što je potrebno za dalju analizu i modeliranje podataka.\n",
    "\n",
    "- df.head(): Prikazuje prvih 5 redova DataFrame-a nakon što su izmijenjene vrijednosti u airline koloni. Ovo omogućava pregled izgleda podataka nakon što su izvršene promjene, a prije treniranja."
   ]
  },
  {
   "cell_type": "code",
   "execution_count": null,
   "metadata": {},
   "outputs": [],
   "source": [
    "df['airline'] = df['airline'].map({'AirAsia': 0, 'Indigo': 1, 'GO_FIRST': 2, 'SpiceJet': 3, 'Air_India': 4, 'Vistara': 5})\n",
    "df.head()"
   ]
  },
  {
   "cell_type": "markdown",
   "metadata": {},
   "source": [
    "## Gradovi\n",
    "\n",
    "- df['source_city']: Ovdje se koristi kolona source_city iz DataFrame-a koja sadrži nazive gradova odakle polazi let.\n",
    "- map(): Funkcija map() zamjenjuje tekstualne nazive gradova odgovarajućim numeričkim vrijednostima prema definisanoj mapi:\n",
    "    - 'Delhi' se mijenja u 0\n",
    "    - 'Hyderabad' se mijenja u 1\n",
    "    - 'Bangalore' se mijenja u 2\n",
    "    - 'Mumbai' se mijenja u 3\n",
    "    - 'Kolkata' se mijenja u 4\n",
    "    - 'Chennai' se mijenja u 5\n",
    "Na taj način, gradovi se numerički kodiraju kako bi se model mogao trenirati.\n",
    "***\n",
    "- Slično kao i prethodno, funkcija map() se koristi za numeričko kodiranje gradova odredišta na isti način:\n",
    "    - 'Delhi' se mijenja u 0\n",
    "    - 'Hyderabad' se mijenja u 1\n",
    "    - 'Mumbai' se mijenja u 2\n",
    "    - 'Bangalore' se mijenja u 3\n",
    "    - 'Chennai' se mijenja u 4\n",
    "    - 'Kolkata' se mijenja u 5\n",
    "Ovdje se vrši zamjena naziva gradova odredišta s numeričkim vrijednostima, što također omogućava treniranje modela."
   ]
  },
  {
   "cell_type": "code",
   "execution_count": 11,
   "metadata": {},
   "outputs": [],
   "source": [
    "df['source_city'] = df['source_city'].map({'Delhi': 0, 'Hyderabad': 1, 'Bangalore': 2, 'Mumbai': 3, 'Kolkata': 4, 'Chennai': 5})\n",
    "df['destination_city'] = df['destination_city'].map({'Delhi': 0, 'Hyderabad': 1, 'Mumbai': 2, 'Bangalore': 3, 'Chennai': 4, 'Kolkata': 5})"
   ]
  },
  {
   "cell_type": "markdown",
   "metadata": {},
   "source": [
    "## Kodiranje vremena polaska i dolaska\n",
    "\n",
    "- df['departure_time']: Ovdje se koristi kolona departure_time iz DataFrame-a koja sadrži vrijeme kada let polazi.\n",
    "- map(): Funkcija map() zamjenjuje tekstualne kategorije vremena polaska odgovarajućim numeričkim vrijednostima prema definisanoj mapi:\n",
    "    - 'Early_Morning' se mijenja u 0\n",
    "    - 'Morning' se mijenja u 1\n",
    "    - 'Afternoon' se mijenja u 2\n",
    "    - 'Evening' se mijenja u 3\n",
    "    - 'Night' se mijenja u 4\n",
    "    - 'Late_Night' se mijenja u 5\n",
    "Ova konverzija omogućava da se vrijeme polaska predstavi numerički.\n",
    "***\n",
    "- Slično prethodnoj operaciji, ovdje se koristi funkcija map() za zamjenu tekstualnih kategorija vremena dolaska u numeričke vrijednosti prema istom principu:\n",
    "    - 'Early_Morning' se mijenja u 0\n",
    "    - 'Morning' se mijenja u 1\n",
    "    - 'Afternoon' se mijenja u 2\n",
    "    - 'Evening' se mijenja u 3\n",
    "    - 'Night' se mijenja u 4\n",
    "    - 'Late_Night' se mijenja u 5\n",
    "Na ovaj način, vrijeme dolaska leta se numerički kodira."
   ]
  },
  {
   "cell_type": "code",
   "execution_count": 12,
   "metadata": {},
   "outputs": [],
   "source": [
    "df['departure_time'] = df['departure_time'].map({'Early_Morning': 0, 'Morning': 1, 'Afternoon': 2, 'Evening': 3, 'Night': 4, 'Late_Night': 5})\n",
    "df['arrival_time'] = df['arrival_time'].map({'Early_Morning': 0, 'Morning': 1, 'Afternoon': 2, 'Evening': 3, 'Night': 4, 'Late_Night': 5})"
   ]
  },
  {
   "cell_type": "markdown",
   "metadata": {},
   "source": [
    "## Broja zaustavljanja i klase (Ekonomska i biznis klasa)\n",
    "\n",
    "- df['stops']: Ovdje se koristi kolona stops koja sadrži podatke o broju zaustavljanja tokom leta.\n",
    "- map(): Funkcija map() zamjenjuje tekstualne kategorije zaustavljanja sa numeričkim vrijednostima prema definisanoj mapi:\n",
    "    - 'zero' se mijenja u 0 (nema zaustavljanja)\n",
    "    - 'one' se mijenja u 1 (jedno zaustavljanje)\n",
    "    - 'two_or_more' se mijenja u 2 (dva ili više zaustavljanja)\n",
    "***\n",
    "- df['class']: Ovdje se koristi kolona class koja označava klasu putovanja (ekonomska ili poslovna).\n",
    "- map(): Funkcija map() zamjenjuje tekstualne kategorije klase putovanja sa numeričkim vrijednostima prema definisanoj mapi:\n",
    "    - 'Economy' se mijenja u 0 (ekonomska klasa)\n",
    "    - 'Business' se mijenja u 1 (poslovna klasa)"
   ]
  },
  {
   "cell_type": "code",
   "execution_count": 13,
   "metadata": {},
   "outputs": [],
   "source": [
    "df['stops'] = df['stops'].map({'zero': 0, 'one': 1, 'two_or_more': 2})\n",
    "df['class'] = df['class'].map({'Economy': 0, 'Business': 1})"
   ]
  },
  {
   "cell_type": "markdown",
   "metadata": {},
   "source": [
    "## Provjera nedostajućih podataka\n",
    "\n",
    "Ovaj kod daje broj nedostajućih vrijednosti (NaN) za svaku kolonu u DataFrame-u df. To je korisno za analizu kvaliteta podataka i identifikaciju koje kolone imaju nedostajuće vrijednosti, kako bi se podaci mogli očistiti."
   ]
  },
  {
   "cell_type": "code",
   "execution_count": null,
   "metadata": {},
   "outputs": [],
   "source": [
    "df.isnull().sum()"
   ]
  },
  {
   "cell_type": "markdown",
   "metadata": {},
   "source": [
    "## Podjela na ulazne i izlazne varijable\n",
    "\n",
    "Ovaj kod priprema podatke za treniranje modela tako što uklanja nepotrebne kolone (kao što su price i days_left), te odvajanje ulaznih značajki (X) i ciljne varijable (y). Prikazuje osnovne statističke informacije o cijenama koristeći describe(), te prikazuje dimenzije podataka (broj redova i kolona) koji će biti korišteni za treniranje modela."
   ]
  },
  {
   "cell_type": "code",
   "execution_count": null,
   "metadata": {},
   "outputs": [],
   "source": [
    "from sklearn.model_selection import train_test_split\n",
    "df['price'].describe()\n",
    "X = df.drop(['price', 'days_left'], axis=1)\n",
    "y = df['price']\n",
    "\n",
    "X.shape"
   ]
  },
  {
   "cell_type": "markdown",
   "metadata": {},
   "source": [
    "## Podjela skupa podataka na trening i test skup\n",
    "\n",
    "\n",
    "Ovaj kod dijeli podatke na trening i test skupove. Funkcija train_test_split uzima ulazne podatke (X) i ciljnu varijablu (y), te ih raspodjeljuje na 80% za treniranje (X_train, y_train) i 20% za testiranje (X_test, y_test), uz fiksirani random_state za reproduktivnost rezultata."
   ]
  },
  {
   "cell_type": "code",
   "execution_count": 16,
   "metadata": {},
   "outputs": [],
   "source": [
    "X_train, X_test, y_train, y_test = train_test_split(X, y, test_size=0.2, random_state=42)"
   ]
  },
  {
   "cell_type": "markdown",
   "metadata": {},
   "source": [
    "## Import i treniranje modela\n",
    "\n",
    "Ovaj kod kreira i trenira model regresije koristeći Random Forest. Korišten je RandomForestRegressor sa 100 stabala (n_estimators=100), a model se trenira na trening skupu podataka (X_train, y_train). random_state=42 osigurava da se rezultati mogu ponoviti."
   ]
  },
  {
   "cell_type": "code",
   "execution_count": null,
   "metadata": {},
   "outputs": [],
   "source": [
    "from sklearn.ensemble import RandomForestRegressor\n",
    "\n",
    "rf = RandomForestRegressor(n_estimators=100, random_state=42)\n",
    "rf.fit(X_train, y_train)"
   ]
  },
  {
   "cell_type": "markdown",
   "metadata": {},
   "source": [
    "## Evaluacija modela\n",
    "\n",
    "Ovaj kod izračunava tačnost (R² score) treniranog Random Forest modela na testnom skupu podataka (X_test, y_test). score() metoda vraća vrijednost koja pokazuje koliko dobro model objašnjava varijancu u testnim podacima, pri čemu vrijednost bliža 1 označava bolji model."
   ]
  },
  {
   "cell_type": "code",
   "execution_count": null,
   "metadata": {},
   "outputs": [],
   "source": [
    "rf.score(X_test, y_test)"
   ]
  },
  {
   "cell_type": "markdown",
   "metadata": {},
   "source": [
    "## Predikcija i prilagodba negativnih vrijednosti\n",
    "\n",
    "Ovaj kod koristi trenirani Random Forest model (rf) za predviđanje cijena na testnom skupu podataka (X_test) i sprema rezultate u y_pred. Zatim se koristi np.maximum() funkcija iz NumPy biblioteke kako bi se osiguralo da predviđene vrijednosti nisu negativne (ako je bilo koji predviđeni iznos manji od 0, biće postavljen na 0)."
   ]
  },
  {
   "cell_type": "code",
   "execution_count": 19,
   "metadata": {},
   "outputs": [],
   "source": [
    "y_pred = rf.predict(X_test)\n",
    "\n",
    "import numpy as np\n",
    "y_pred = np.maximum(y_pred, 0)"
   ]
  },
  {
   "cell_type": "markdown",
   "metadata": {},
   "source": [
    "## Izračun greške\n",
    "\n",
    "Ovaj kod koristi funkciju mean_absolute_error iz sklearn.metrics biblioteke za izračunavanje srednje apsolutne pogreške (MAE) između stvarnih vrijednosti (y_test) i predviđenih vrijednosti (y_pred). MAE predstavlja prosječnu apsolutnu razliku između stvarnih i predviđenih cijena, što daje uvid u to koliko su ta predviđanja tačna. Manji MAE označava bolje performanse modela."
   ]
  },
  {
   "cell_type": "code",
   "execution_count": null,
   "metadata": {},
   "outputs": [],
   "source": [
    "from sklearn.metrics import mean_absolute_error\n",
    "mean_absolute_error(y_test, y_pred)"
   ]
  },
  {
   "cell_type": "markdown",
   "metadata": {},
   "source": [
    "## Spremanje modela\n",
    "\n",
    "Ovaj kod koristi biblioteku pickle za serijalizaciju (spremanje) treniranog modela (rf, koji je instanca RandomForestRegressor) u binarni format i snima ga u datoteku pod nazivom model_rf.pkl. Metoda pickle.dump() omogućava pohranu objekta u datoteku, kako bi se model mogao kasnije učitati i koristiti bez potrebe za ponovnim treniranjem."
   ]
  },
  {
   "cell_type": "code",
   "execution_count": 21,
   "metadata": {},
   "outputs": [],
   "source": [
    "import pickle\n",
    "pickle.dump(rf, open('model_rf.pkl', 'wb'))"
   ]
  }
 ],
 "metadata": {
  "kernelspec": {
   "display_name": ".venv",
   "language": "python",
   "name": "python3"
  },
  "language_info": {
   "codemirror_mode": {
    "name": "ipython",
    "version": 3
   },
   "file_extension": ".py",
   "mimetype": "text/x-python",
   "name": "python",
   "nbconvert_exporter": "python",
   "pygments_lexer": "ipython3",
   "version": "3.12.0"
  }
 },
 "nbformat": 4,
 "nbformat_minor": 2
}
